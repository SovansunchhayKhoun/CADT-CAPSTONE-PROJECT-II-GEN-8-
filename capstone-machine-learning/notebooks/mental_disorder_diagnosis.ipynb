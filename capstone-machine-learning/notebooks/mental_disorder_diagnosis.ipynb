{
 "cells": [
  {
   "cell_type": "markdown",
   "source": [
    "# Import Libraries"
   ],
   "metadata": {
    "collapsed": false
   }
  },
  {
   "cell_type": "code",
   "execution_count": 1,
   "metadata": {
    "collapsed": true,
    "ExecuteTime": {
     "start_time": "2024-08-04T22:24:30.384655Z",
     "end_time": "2024-08-04T22:24:32.551057Z"
    }
   },
   "outputs": [],
   "source": [
    "import pandas as pd\n",
    "\n",
    "from sklearn.preprocessing import OneHotEncoder\n",
    "from sklearn.model_selection import train_test_split\n",
    "from sklearn.ensemble import RandomForestClassifier\n",
    "from sklearn.metrics import classification_report\n",
    "\n",
    "import pickle"
   ]
  },
  {
   "cell_type": "markdown",
   "source": [
    "# Load Data"
   ],
   "metadata": {
    "collapsed": false
   }
  },
  {
   "cell_type": "code",
   "execution_count": 2,
   "outputs": [
    {
     "data": {
      "text/plain": "         Timestamp  Gender        Country Occupation self_employed  \\\n0  8/27/2014 11:29  Female  United States  Corporate           NaN   \n1  8/27/2014 11:31  Female  United States  Corporate           NaN   \n2  8/27/2014 11:32  Female  United States  Corporate           NaN   \n3  8/27/2014 11:37  Female  United States  Corporate            No   \n4  8/27/2014 11:43  Female  United States  Corporate            No   \n\n  family_history treatment Days_Indoors Growing_Stress Changes_Habits  \\\n0             No       Yes    1-14 days            Yes             No   \n1            Yes       Yes    1-14 days            Yes             No   \n2            Yes       Yes    1-14 days            Yes             No   \n3            Yes       Yes    1-14 days            Yes             No   \n4            Yes       Yes    1-14 days            Yes             No   \n\n  Mental_Health_History Mood_Swings Coping_Struggles Work_Interest  \\\n0                   Yes      Medium               No            No   \n1                   Yes      Medium               No            No   \n2                   Yes      Medium               No            No   \n3                   Yes      Medium               No            No   \n4                   Yes      Medium               No            No   \n\n  Social_Weakness mental_health_interview care_options  \n0             Yes                      No     Not sure  \n1             Yes                      No           No  \n2             Yes                      No          Yes  \n3             Yes                   Maybe          Yes  \n4             Yes                      No          Yes  ",
      "text/html": "<div>\n<style scoped>\n    .dataframe tbody tr th:only-of-type {\n        vertical-align: middle;\n    }\n\n    .dataframe tbody tr th {\n        vertical-align: top;\n    }\n\n    .dataframe thead th {\n        text-align: right;\n    }\n</style>\n<table border=\"1\" class=\"dataframe\">\n  <thead>\n    <tr style=\"text-align: right;\">\n      <th></th>\n      <th>Timestamp</th>\n      <th>Gender</th>\n      <th>Country</th>\n      <th>Occupation</th>\n      <th>self_employed</th>\n      <th>family_history</th>\n      <th>treatment</th>\n      <th>Days_Indoors</th>\n      <th>Growing_Stress</th>\n      <th>Changes_Habits</th>\n      <th>Mental_Health_History</th>\n      <th>Mood_Swings</th>\n      <th>Coping_Struggles</th>\n      <th>Work_Interest</th>\n      <th>Social_Weakness</th>\n      <th>mental_health_interview</th>\n      <th>care_options</th>\n    </tr>\n  </thead>\n  <tbody>\n    <tr>\n      <th>0</th>\n      <td>8/27/2014 11:29</td>\n      <td>Female</td>\n      <td>United States</td>\n      <td>Corporate</td>\n      <td>NaN</td>\n      <td>No</td>\n      <td>Yes</td>\n      <td>1-14 days</td>\n      <td>Yes</td>\n      <td>No</td>\n      <td>Yes</td>\n      <td>Medium</td>\n      <td>No</td>\n      <td>No</td>\n      <td>Yes</td>\n      <td>No</td>\n      <td>Not sure</td>\n    </tr>\n    <tr>\n      <th>1</th>\n      <td>8/27/2014 11:31</td>\n      <td>Female</td>\n      <td>United States</td>\n      <td>Corporate</td>\n      <td>NaN</td>\n      <td>Yes</td>\n      <td>Yes</td>\n      <td>1-14 days</td>\n      <td>Yes</td>\n      <td>No</td>\n      <td>Yes</td>\n      <td>Medium</td>\n      <td>No</td>\n      <td>No</td>\n      <td>Yes</td>\n      <td>No</td>\n      <td>No</td>\n    </tr>\n    <tr>\n      <th>2</th>\n      <td>8/27/2014 11:32</td>\n      <td>Female</td>\n      <td>United States</td>\n      <td>Corporate</td>\n      <td>NaN</td>\n      <td>Yes</td>\n      <td>Yes</td>\n      <td>1-14 days</td>\n      <td>Yes</td>\n      <td>No</td>\n      <td>Yes</td>\n      <td>Medium</td>\n      <td>No</td>\n      <td>No</td>\n      <td>Yes</td>\n      <td>No</td>\n      <td>Yes</td>\n    </tr>\n    <tr>\n      <th>3</th>\n      <td>8/27/2014 11:37</td>\n      <td>Female</td>\n      <td>United States</td>\n      <td>Corporate</td>\n      <td>No</td>\n      <td>Yes</td>\n      <td>Yes</td>\n      <td>1-14 days</td>\n      <td>Yes</td>\n      <td>No</td>\n      <td>Yes</td>\n      <td>Medium</td>\n      <td>No</td>\n      <td>No</td>\n      <td>Yes</td>\n      <td>Maybe</td>\n      <td>Yes</td>\n    </tr>\n    <tr>\n      <th>4</th>\n      <td>8/27/2014 11:43</td>\n      <td>Female</td>\n      <td>United States</td>\n      <td>Corporate</td>\n      <td>No</td>\n      <td>Yes</td>\n      <td>Yes</td>\n      <td>1-14 days</td>\n      <td>Yes</td>\n      <td>No</td>\n      <td>Yes</td>\n      <td>Medium</td>\n      <td>No</td>\n      <td>No</td>\n      <td>Yes</td>\n      <td>No</td>\n      <td>Yes</td>\n    </tr>\n  </tbody>\n</table>\n</div>"
     },
     "execution_count": 2,
     "metadata": {},
     "output_type": "execute_result"
    }
   ],
   "source": [
    "file_path = \"../data/external/Mental Health Dataset.csv\" # File path for the dataset\n",
    "\n",
    "df = pd.read_csv(file_path)\n",
    "df.head()"
   ],
   "metadata": {
    "collapsed": false,
    "ExecuteTime": {
     "start_time": "2024-08-04T22:24:32.551057Z",
     "end_time": "2024-08-04T22:24:32.942136Z"
    }
   }
  },
  {
   "cell_type": "markdown",
   "source": [
    "# Data Exploration"
   ],
   "metadata": {
    "collapsed": false
   }
  },
  {
   "cell_type": "code",
   "execution_count": 3,
   "outputs": [
    {
     "name": "stdout",
     "output_type": "stream",
     "text": [
      "<class 'pandas.core.frame.DataFrame'>\n",
      "RangeIndex: 292364 entries, 0 to 292363\n",
      "Data columns (total 17 columns):\n",
      " #   Column                   Non-Null Count   Dtype \n",
      "---  ------                   --------------   ----- \n",
      " 0   Timestamp                292364 non-null  object\n",
      " 1   Gender                   292364 non-null  object\n",
      " 2   Country                  292364 non-null  object\n",
      " 3   Occupation               292364 non-null  object\n",
      " 4   self_employed            287162 non-null  object\n",
      " 5   family_history           292364 non-null  object\n",
      " 6   treatment                292364 non-null  object\n",
      " 7   Days_Indoors             292364 non-null  object\n",
      " 8   Growing_Stress           292364 non-null  object\n",
      " 9   Changes_Habits           292364 non-null  object\n",
      " 10  Mental_Health_History    292364 non-null  object\n",
      " 11  Mood_Swings              292364 non-null  object\n",
      " 12  Coping_Struggles         292364 non-null  object\n",
      " 13  Work_Interest            292364 non-null  object\n",
      " 14  Social_Weakness          292364 non-null  object\n",
      " 15  mental_health_interview  292364 non-null  object\n",
      " 16  care_options             292364 non-null  object\n",
      "dtypes: object(17)\n",
      "memory usage: 37.9+ MB\n"
     ]
    }
   ],
   "source": [
    "df.info()"
   ],
   "metadata": {
    "collapsed": false,
    "ExecuteTime": {
     "start_time": "2024-08-04T22:24:32.943641Z",
     "end_time": "2024-08-04T22:24:33.088619Z"
    }
   }
  },
  {
   "cell_type": "code",
   "execution_count": 4,
   "outputs": [
    {
     "data": {
      "text/plain": "Timestamp                     0\nGender                        0\nCountry                       0\nOccupation                    0\nself_employed              5202\nfamily_history                0\ntreatment                     0\nDays_Indoors                  0\nGrowing_Stress                0\nChanges_Habits                0\nMental_Health_History         0\nMood_Swings                   0\nCoping_Struggles              0\nWork_Interest                 0\nSocial_Weakness               0\nmental_health_interview       0\ncare_options                  0\ndtype: int64"
     },
     "execution_count": 4,
     "metadata": {},
     "output_type": "execute_result"
    }
   ],
   "source": [
    "df.isna().sum()"
   ],
   "metadata": {
    "collapsed": false,
    "ExecuteTime": {
     "start_time": "2024-08-04T22:24:33.083109Z",
     "end_time": "2024-08-04T22:24:33.205563Z"
    }
   }
  },
  {
   "cell_type": "code",
   "execution_count": 5,
   "outputs": [],
   "source": [
    "df = df.drop(columns=['Timestamp', 'Country'])"
   ],
   "metadata": {
    "collapsed": false,
    "ExecuteTime": {
     "start_time": "2024-08-04T22:24:33.207708Z",
     "end_time": "2024-08-04T22:24:33.251523Z"
    }
   }
  },
  {
   "cell_type": "code",
   "execution_count": 6,
   "outputs": [
    {
     "data": {
      "text/plain": "{'Gender': array(['Female', 'Male'], dtype=object),\n 'Occupation': array(['Corporate', 'Student', 'Business', 'Housewife', 'Others'],\n       dtype=object),\n 'self_employed': array([nan, 'No', 'Yes'], dtype=object),\n 'family_history': array(['No', 'Yes'], dtype=object),\n 'treatment': array(['Yes', 'No'], dtype=object),\n 'Days_Indoors': array(['1-14 days', 'Go out Every day', 'More than 2 months',\n        '15-30 days', '31-60 days'], dtype=object),\n 'Growing_Stress': array(['Yes', 'No', 'Maybe'], dtype=object),\n 'Changes_Habits': array(['No', 'Yes', 'Maybe'], dtype=object),\n 'Mental_Health_History': array(['Yes', 'No', 'Maybe'], dtype=object),\n 'Mood_Swings': array(['Medium', 'Low', 'High'], dtype=object),\n 'Coping_Struggles': array(['No', 'Yes'], dtype=object),\n 'Work_Interest': array(['No', 'Maybe', 'Yes'], dtype=object),\n 'Social_Weakness': array(['Yes', 'No', 'Maybe'], dtype=object),\n 'mental_health_interview': array(['No', 'Maybe', 'Yes'], dtype=object),\n 'care_options': array(['Not sure', 'No', 'Yes'], dtype=object)}"
     },
     "execution_count": 6,
     "metadata": {},
     "output_type": "execute_result"
    }
   ],
   "source": [
    "unique_values = dict({})\n",
    "\n",
    "for col in df.columns:\n",
    "    unique_values[col] = df[col].unique()\n",
    "\n",
    "unique_values"
   ],
   "metadata": {
    "collapsed": false,
    "ExecuteTime": {
     "start_time": "2024-08-04T22:24:33.253032Z",
     "end_time": "2024-08-04T22:24:33.404309Z"
    }
   }
  },
  {
   "cell_type": "code",
   "execution_count": 7,
   "outputs": [
    {
     "data": {
      "text/plain": "Index(['Gender', 'Occupation', 'self_employed', 'family_history', 'treatment',\n       'Days_Indoors', 'Growing_Stress', 'Changes_Habits',\n       'Mental_Health_History', 'Mood_Swings', 'Coping_Struggles',\n       'Work_Interest', 'Social_Weakness', 'mental_health_interview',\n       'care_options'],\n      dtype='object')"
     },
     "execution_count": 7,
     "metadata": {},
     "output_type": "execute_result"
    }
   ],
   "source": [
    "df.columns"
   ],
   "metadata": {
    "collapsed": false,
    "ExecuteTime": {
     "start_time": "2024-08-04T22:24:33.406302Z",
     "end_time": "2024-08-04T22:24:33.463729Z"
    }
   }
  },
  {
   "cell_type": "markdown",
   "source": [
    "# Data Preprocessing"
   ],
   "metadata": {
    "collapsed": false
   }
  },
  {
   "cell_type": "markdown",
   "source": [
    "## Remove missing values"
   ],
   "metadata": {
    "collapsed": false
   }
  },
  {
   "cell_type": "code",
   "execution_count": 8,
   "outputs": [],
   "source": [
    "df = df.dropna()"
   ],
   "metadata": {
    "collapsed": false,
    "ExecuteTime": {
     "start_time": "2024-08-04T22:24:33.421140Z",
     "end_time": "2024-08-04T22:24:33.573114Z"
    }
   }
  },
  {
   "cell_type": "code",
   "execution_count": 9,
   "outputs": [
    {
     "data": {
      "text/plain": "Gender                     0\nOccupation                 0\nself_employed              0\nfamily_history             0\ntreatment                  0\nDays_Indoors               0\nGrowing_Stress             0\nChanges_Habits             0\nMental_Health_History      0\nMood_Swings                0\nCoping_Struggles           0\nWork_Interest              0\nSocial_Weakness            0\nmental_health_interview    0\ncare_options               0\ndtype: int64"
     },
     "execution_count": 9,
     "metadata": {},
     "output_type": "execute_result"
    }
   ],
   "source": [
    "df.isna().sum()"
   ],
   "metadata": {
    "collapsed": false,
    "ExecuteTime": {
     "start_time": "2024-08-04T22:24:33.575122Z",
     "end_time": "2024-08-04T22:24:33.684186Z"
    }
   }
  },
  {
   "cell_type": "markdown",
   "source": [
    "## Remove duplicates"
   ],
   "metadata": {
    "collapsed": false
   }
  },
  {
   "cell_type": "code",
   "execution_count": 10,
   "outputs": [
    {
     "data": {
      "text/plain": "287162"
     },
     "execution_count": 10,
     "metadata": {},
     "output_type": "execute_result"
    }
   ],
   "source": [
    "len(df)"
   ],
   "metadata": {
    "collapsed": false,
    "ExecuteTime": {
     "start_time": "2024-08-04T22:24:33.684186Z",
     "end_time": "2024-08-04T22:24:33.729700Z"
    }
   }
  },
  {
   "cell_type": "code",
   "execution_count": 11,
   "outputs": [
    {
     "data": {
      "text/plain": "31794"
     },
     "execution_count": 11,
     "metadata": {},
     "output_type": "execute_result"
    }
   ],
   "source": [
    "df = df.drop_duplicates()\n",
    "len(df)"
   ],
   "metadata": {
    "collapsed": false,
    "ExecuteTime": {
     "start_time": "2024-08-04T22:24:33.699809Z",
     "end_time": "2024-08-04T22:24:33.886227Z"
    }
   }
  },
  {
   "cell_type": "markdown",
   "source": [
    "## Feature Encoding"
   ],
   "metadata": {
    "collapsed": false
   }
  },
  {
   "cell_type": "code",
   "execution_count": 12,
   "outputs": [],
   "source": [
    "# One Hot Encoder\n",
    "one_hot_encoder = OneHotEncoder()"
   ],
   "metadata": {
    "collapsed": false,
    "ExecuteTime": {
     "start_time": "2024-08-04T22:24:33.886227Z",
     "end_time": "2024-08-04T22:24:33.946479Z"
    }
   }
  },
  {
   "cell_type": "code",
   "execution_count": 13,
   "outputs": [],
   "source": [
    "X = df.drop(columns=[\"Mental_Health_History\"])\n",
    "y = df['Mental_Health_History']\n",
    "encoded_features = one_hot_encoder.fit_transform(X)"
   ],
   "metadata": {
    "collapsed": false,
    "ExecuteTime": {
     "start_time": "2024-08-04T22:24:33.916992Z",
     "end_time": "2024-08-04T22:24:33.991240Z"
    }
   }
  },
  {
   "cell_type": "code",
   "execution_count": 14,
   "outputs": [],
   "source": [
    "features = pd.DataFrame(encoded_features.toarray(), columns=one_hot_encoder.get_feature_names_out())"
   ],
   "metadata": {
    "collapsed": false,
    "ExecuteTime": {
     "start_time": "2024-08-04T22:24:33.983224Z",
     "end_time": "2024-08-04T22:24:33.995764Z"
    }
   }
  },
  {
   "cell_type": "code",
   "execution_count": 15,
   "outputs": [
    {
     "data": {
      "text/plain": "       Gender_Female  Gender_Male  Occupation_Business  Occupation_Corporate  \\\n0                1.0          0.0                  0.0                   1.0   \n1                1.0          0.0                  0.0                   1.0   \n2                1.0          0.0                  0.0                   1.0   \n3                1.0          0.0                  0.0                   1.0   \n4                1.0          0.0                  0.0                   1.0   \n...              ...          ...                  ...                   ...   \n31789            0.0          1.0                  1.0                   0.0   \n31790            0.0          1.0                  1.0                   0.0   \n31791            0.0          1.0                  1.0                   0.0   \n31792            0.0          1.0                  1.0                   0.0   \n31793            0.0          1.0                  1.0                   0.0   \n\n       Occupation_Housewife  Occupation_Others  Occupation_Student  \\\n0                       0.0                0.0                 0.0   \n1                       0.0                0.0                 0.0   \n2                       0.0                0.0                 0.0   \n3                       0.0                0.0                 0.0   \n4                       0.0                0.0                 0.0   \n...                     ...                ...                 ...   \n31789                   0.0                0.0                 0.0   \n31790                   0.0                0.0                 0.0   \n31791                   0.0                0.0                 0.0   \n31792                   0.0                0.0                 0.0   \n31793                   0.0                0.0                 0.0   \n\n       self_employed_No  self_employed_Yes  family_history_No  ...  \\\n0                   1.0                0.0                0.0  ...   \n1                   1.0                0.0                0.0  ...   \n2                   1.0                0.0                1.0  ...   \n3                   1.0                0.0                0.0  ...   \n4                   1.0                0.0                1.0  ...   \n...                 ...                ...                ...  ...   \n31789               1.0                0.0                0.0  ...   \n31790               1.0                0.0                0.0  ...   \n31791               0.0                1.0                0.0  ...   \n31792               0.0                1.0                0.0  ...   \n31793               1.0                0.0                0.0  ...   \n\n       Work_Interest_Yes  Social_Weakness_Maybe  Social_Weakness_No  \\\n0                    0.0                    0.0                 0.0   \n1                    0.0                    0.0                 0.0   \n2                    0.0                    0.0                 0.0   \n3                    0.0                    0.0                 0.0   \n4                    0.0                    0.0                 0.0   \n...                  ...                    ...                 ...   \n31789                0.0                    1.0                 0.0   \n31790                0.0                    1.0                 0.0   \n31791                0.0                    1.0                 0.0   \n31792                0.0                    1.0                 0.0   \n31793                0.0                    1.0                 0.0   \n\n       Social_Weakness_Yes  mental_health_interview_Maybe  \\\n0                      1.0                            1.0   \n1                      1.0                            0.0   \n2                      1.0                            1.0   \n3                      1.0                            0.0   \n4                      1.0                            0.0   \n...                    ...                            ...   \n31789                  0.0                            0.0   \n31790                  0.0                            0.0   \n31791                  0.0                            0.0   \n31792                  0.0                            1.0   \n31793                  0.0                            1.0   \n\n       mental_health_interview_No  mental_health_interview_Yes  \\\n0                             0.0                          0.0   \n1                             1.0                          0.0   \n2                             0.0                          0.0   \n3                             1.0                          0.0   \n4                             1.0                          0.0   \n...                           ...                          ...   \n31789                         0.0                          1.0   \n31790                         0.0                          1.0   \n31791                         1.0                          0.0   \n31792                         0.0                          0.0   \n31793                         0.0                          0.0   \n\n       care_options_No  care_options_Not sure  care_options_Yes  \n0                  0.0                    0.0               1.0  \n1                  0.0                    0.0               1.0  \n2                  0.0                    1.0               0.0  \n3                  0.0                    1.0               0.0  \n4                  1.0                    0.0               0.0  \n...                ...                    ...               ...  \n31789              1.0                    0.0               0.0  \n31790              0.0                    1.0               0.0  \n31791              1.0                    0.0               0.0  \n31792              1.0                    0.0               0.0  \n31793              0.0                    1.0               0.0  \n\n[31794 rows x 41 columns]",
      "text/html": "<div>\n<style scoped>\n    .dataframe tbody tr th:only-of-type {\n        vertical-align: middle;\n    }\n\n    .dataframe tbody tr th {\n        vertical-align: top;\n    }\n\n    .dataframe thead th {\n        text-align: right;\n    }\n</style>\n<table border=\"1\" class=\"dataframe\">\n  <thead>\n    <tr style=\"text-align: right;\">\n      <th></th>\n      <th>Gender_Female</th>\n      <th>Gender_Male</th>\n      <th>Occupation_Business</th>\n      <th>Occupation_Corporate</th>\n      <th>Occupation_Housewife</th>\n      <th>Occupation_Others</th>\n      <th>Occupation_Student</th>\n      <th>self_employed_No</th>\n      <th>self_employed_Yes</th>\n      <th>family_history_No</th>\n      <th>...</th>\n      <th>Work_Interest_Yes</th>\n      <th>Social_Weakness_Maybe</th>\n      <th>Social_Weakness_No</th>\n      <th>Social_Weakness_Yes</th>\n      <th>mental_health_interview_Maybe</th>\n      <th>mental_health_interview_No</th>\n      <th>mental_health_interview_Yes</th>\n      <th>care_options_No</th>\n      <th>care_options_Not sure</th>\n      <th>care_options_Yes</th>\n    </tr>\n  </thead>\n  <tbody>\n    <tr>\n      <th>0</th>\n      <td>1.0</td>\n      <td>0.0</td>\n      <td>0.0</td>\n      <td>1.0</td>\n      <td>0.0</td>\n      <td>0.0</td>\n      <td>0.0</td>\n      <td>1.0</td>\n      <td>0.0</td>\n      <td>0.0</td>\n      <td>...</td>\n      <td>0.0</td>\n      <td>0.0</td>\n      <td>0.0</td>\n      <td>1.0</td>\n      <td>1.0</td>\n      <td>0.0</td>\n      <td>0.0</td>\n      <td>0.0</td>\n      <td>0.0</td>\n      <td>1.0</td>\n    </tr>\n    <tr>\n      <th>1</th>\n      <td>1.0</td>\n      <td>0.0</td>\n      <td>0.0</td>\n      <td>1.0</td>\n      <td>0.0</td>\n      <td>0.0</td>\n      <td>0.0</td>\n      <td>1.0</td>\n      <td>0.0</td>\n      <td>0.0</td>\n      <td>...</td>\n      <td>0.0</td>\n      <td>0.0</td>\n      <td>0.0</td>\n      <td>1.0</td>\n      <td>0.0</td>\n      <td>1.0</td>\n      <td>0.0</td>\n      <td>0.0</td>\n      <td>0.0</td>\n      <td>1.0</td>\n    </tr>\n    <tr>\n      <th>2</th>\n      <td>1.0</td>\n      <td>0.0</td>\n      <td>0.0</td>\n      <td>1.0</td>\n      <td>0.0</td>\n      <td>0.0</td>\n      <td>0.0</td>\n      <td>1.0</td>\n      <td>0.0</td>\n      <td>1.0</td>\n      <td>...</td>\n      <td>0.0</td>\n      <td>0.0</td>\n      <td>0.0</td>\n      <td>1.0</td>\n      <td>1.0</td>\n      <td>0.0</td>\n      <td>0.0</td>\n      <td>0.0</td>\n      <td>1.0</td>\n      <td>0.0</td>\n    </tr>\n    <tr>\n      <th>3</th>\n      <td>1.0</td>\n      <td>0.0</td>\n      <td>0.0</td>\n      <td>1.0</td>\n      <td>0.0</td>\n      <td>0.0</td>\n      <td>0.0</td>\n      <td>1.0</td>\n      <td>0.0</td>\n      <td>0.0</td>\n      <td>...</td>\n      <td>0.0</td>\n      <td>0.0</td>\n      <td>0.0</td>\n      <td>1.0</td>\n      <td>0.0</td>\n      <td>1.0</td>\n      <td>0.0</td>\n      <td>0.0</td>\n      <td>1.0</td>\n      <td>0.0</td>\n    </tr>\n    <tr>\n      <th>4</th>\n      <td>1.0</td>\n      <td>0.0</td>\n      <td>0.0</td>\n      <td>1.0</td>\n      <td>0.0</td>\n      <td>0.0</td>\n      <td>0.0</td>\n      <td>1.0</td>\n      <td>0.0</td>\n      <td>1.0</td>\n      <td>...</td>\n      <td>0.0</td>\n      <td>0.0</td>\n      <td>0.0</td>\n      <td>1.0</td>\n      <td>0.0</td>\n      <td>1.0</td>\n      <td>0.0</td>\n      <td>1.0</td>\n      <td>0.0</td>\n      <td>0.0</td>\n    </tr>\n    <tr>\n      <th>...</th>\n      <td>...</td>\n      <td>...</td>\n      <td>...</td>\n      <td>...</td>\n      <td>...</td>\n      <td>...</td>\n      <td>...</td>\n      <td>...</td>\n      <td>...</td>\n      <td>...</td>\n      <td>...</td>\n      <td>...</td>\n      <td>...</td>\n      <td>...</td>\n      <td>...</td>\n      <td>...</td>\n      <td>...</td>\n      <td>...</td>\n      <td>...</td>\n      <td>...</td>\n      <td>...</td>\n    </tr>\n    <tr>\n      <th>31789</th>\n      <td>0.0</td>\n      <td>1.0</td>\n      <td>1.0</td>\n      <td>0.0</td>\n      <td>0.0</td>\n      <td>0.0</td>\n      <td>0.0</td>\n      <td>1.0</td>\n      <td>0.0</td>\n      <td>0.0</td>\n      <td>...</td>\n      <td>0.0</td>\n      <td>1.0</td>\n      <td>0.0</td>\n      <td>0.0</td>\n      <td>0.0</td>\n      <td>0.0</td>\n      <td>1.0</td>\n      <td>1.0</td>\n      <td>0.0</td>\n      <td>0.0</td>\n    </tr>\n    <tr>\n      <th>31790</th>\n      <td>0.0</td>\n      <td>1.0</td>\n      <td>1.0</td>\n      <td>0.0</td>\n      <td>0.0</td>\n      <td>0.0</td>\n      <td>0.0</td>\n      <td>1.0</td>\n      <td>0.0</td>\n      <td>0.0</td>\n      <td>...</td>\n      <td>0.0</td>\n      <td>1.0</td>\n      <td>0.0</td>\n      <td>0.0</td>\n      <td>0.0</td>\n      <td>0.0</td>\n      <td>1.0</td>\n      <td>0.0</td>\n      <td>1.0</td>\n      <td>0.0</td>\n    </tr>\n    <tr>\n      <th>31791</th>\n      <td>0.0</td>\n      <td>1.0</td>\n      <td>1.0</td>\n      <td>0.0</td>\n      <td>0.0</td>\n      <td>0.0</td>\n      <td>0.0</td>\n      <td>0.0</td>\n      <td>1.0</td>\n      <td>0.0</td>\n      <td>...</td>\n      <td>0.0</td>\n      <td>1.0</td>\n      <td>0.0</td>\n      <td>0.0</td>\n      <td>0.0</td>\n      <td>1.0</td>\n      <td>0.0</td>\n      <td>1.0</td>\n      <td>0.0</td>\n      <td>0.0</td>\n    </tr>\n    <tr>\n      <th>31792</th>\n      <td>0.0</td>\n      <td>1.0</td>\n      <td>1.0</td>\n      <td>0.0</td>\n      <td>0.0</td>\n      <td>0.0</td>\n      <td>0.0</td>\n      <td>0.0</td>\n      <td>1.0</td>\n      <td>0.0</td>\n      <td>...</td>\n      <td>0.0</td>\n      <td>1.0</td>\n      <td>0.0</td>\n      <td>0.0</td>\n      <td>1.0</td>\n      <td>0.0</td>\n      <td>0.0</td>\n      <td>1.0</td>\n      <td>0.0</td>\n      <td>0.0</td>\n    </tr>\n    <tr>\n      <th>31793</th>\n      <td>0.0</td>\n      <td>1.0</td>\n      <td>1.0</td>\n      <td>0.0</td>\n      <td>0.0</td>\n      <td>0.0</td>\n      <td>0.0</td>\n      <td>1.0</td>\n      <td>0.0</td>\n      <td>0.0</td>\n      <td>...</td>\n      <td>0.0</td>\n      <td>1.0</td>\n      <td>0.0</td>\n      <td>0.0</td>\n      <td>1.0</td>\n      <td>0.0</td>\n      <td>0.0</td>\n      <td>0.0</td>\n      <td>1.0</td>\n      <td>0.0</td>\n    </tr>\n  </tbody>\n</table>\n<p>31794 rows × 41 columns</p>\n</div>"
     },
     "execution_count": 15,
     "metadata": {},
     "output_type": "execute_result"
    }
   ],
   "source": [
    "features"
   ],
   "metadata": {
    "collapsed": false,
    "ExecuteTime": {
     "start_time": "2024-08-04T22:24:33.995764Z",
     "end_time": "2024-08-04T22:24:34.056165Z"
    }
   }
  },
  {
   "cell_type": "markdown",
   "source": [
    "# Encode target"
   ],
   "metadata": {
    "collapsed": false
   }
  },
  {
   "cell_type": "code",
   "execution_count": 16,
   "outputs": [],
   "source": [
    "target_map = {\n",
    "    'Yes': 1,\n",
    "    'No': 0,\n",
    "    'Maybe': 1\n",
    "}"
   ],
   "metadata": {
    "collapsed": false,
    "ExecuteTime": {
     "start_time": "2024-08-04T22:24:34.044126Z",
     "end_time": "2024-08-04T22:24:34.064194Z"
    }
   }
  },
  {
   "cell_type": "code",
   "execution_count": 17,
   "outputs": [],
   "source": [
    "def preprocessing(features, target):\n",
    "    one_hot_encoder = OneHotEncoder()\n",
    "    encoded_features = one_hot_encoder.fit_transform(features)\n",
    "    features = pd.DataFrame(encoded_features.toarray(), columns=one_hot_encoder.get_feature_names_out())\n",
    "    target = target.apply(lambda x: target_map[x])\n",
    "    return features, target\n",
    "\n",
    "X = df.drop(columns=[\"Mental_Health_History\"])\n",
    "y = df['Mental_Health_History']\n",
    "\n",
    "features, target = preprocessing(X, y)"
   ],
   "metadata": {
    "collapsed": false,
    "ExecuteTime": {
     "start_time": "2024-08-04T22:24:34.061684Z",
     "end_time": "2024-08-04T22:24:34.174262Z"
    }
   }
  },
  {
   "cell_type": "markdown",
   "source": [
    "# Model Training"
   ],
   "metadata": {
    "collapsed": false
   }
  },
  {
   "cell_type": "code",
   "execution_count": 18,
   "outputs": [],
   "source": [
    "X_train, X_test, y_train, y_test = train_test_split(features, target, test_size=0.2, random_state=42)"
   ],
   "metadata": {
    "collapsed": false,
    "ExecuteTime": {
     "start_time": "2024-08-04T22:24:34.151717Z",
     "end_time": "2024-08-04T22:24:34.175261Z"
    }
   }
  },
  {
   "cell_type": "code",
   "execution_count": 19,
   "outputs": [],
   "source": [
    "rf_classifier = RandomForestClassifier(n_estimators=100)\n",
    "rf_classifier.fit(X_train, y_train)\n",
    "\n",
    "y_pred = rf_classifier.predict(X_test)\n"
   ],
   "metadata": {
    "collapsed": false,
    "ExecuteTime": {
     "start_time": "2024-08-04T22:24:34.166743Z",
     "end_time": "2024-08-04T22:24:35.677340Z"
    }
   }
  },
  {
   "cell_type": "markdown",
   "source": [
    "# Model Evaluation"
   ],
   "metadata": {
    "collapsed": false
   }
  },
  {
   "cell_type": "code",
   "execution_count": 20,
   "outputs": [
    {
     "name": "stdout",
     "output_type": "stream",
     "text": [
      "              precision    recall  f1-score   support\n",
      "\n",
      "           0       0.98      0.98      0.98      2219\n",
      "           1       0.99      0.99      0.99      4140\n",
      "\n",
      "    accuracy                           0.98      6359\n",
      "   macro avg       0.98      0.98      0.98      6359\n",
      "weighted avg       0.98      0.98      0.98      6359\n",
      "\n"
     ]
    }
   ],
   "source": [
    "eval_result = classification_report(y_test, y_pred)\n",
    "print(eval_result)"
   ],
   "metadata": {
    "collapsed": false,
    "ExecuteTime": {
     "start_time": "2024-08-04T22:24:35.677340Z",
     "end_time": "2024-08-04T22:24:35.692742Z"
    }
   }
  },
  {
   "cell_type": "markdown",
   "source": [],
   "metadata": {
    "collapsed": false
   }
  },
  {
   "cell_type": "markdown",
   "source": [
    "# Save Model"
   ],
   "metadata": {
    "collapsed": false
   }
  },
  {
   "cell_type": "code",
   "execution_count": 21,
   "outputs": [],
   "source": [
    "# Save the trained model to a .pkl file\n",
    "with open('../models/classifier_model.pkl', 'wb') as file:\n",
    "    pickle.dump(rf_classifier, file)\n",
    "\n",
    "# Save the trained model to a .pkl file\n",
    "with open('../models/one_hot_encoder.pkl', 'wb') as file:\n",
    "    pickle.dump(one_hot_encoder, file)"
   ],
   "metadata": {
    "collapsed": false,
    "ExecuteTime": {
     "start_time": "2024-08-04T22:24:35.691742Z",
     "end_time": "2024-08-04T22:24:35.752565Z"
    }
   }
  },
  {
   "cell_type": "code",
   "execution_count": 22,
   "outputs": [],
   "source": [
    "with open('../models/classifier_model.pkl', 'rb') as file:\n",
    "    loaded_model = pickle.load(file)"
   ],
   "metadata": {
    "collapsed": false,
    "ExecuteTime": {
     "start_time": "2024-08-04T22:24:35.725554Z",
     "end_time": "2024-08-04T22:24:35.769114Z"
    }
   }
  },
  {
   "cell_type": "code",
   "execution_count": 22,
   "outputs": [],
   "source": [],
   "metadata": {
    "collapsed": false,
    "ExecuteTime": {
     "start_time": "2024-08-04T22:24:35.770620Z",
     "end_time": "2024-08-04T22:24:35.794679Z"
    }
   }
  }
 ],
 "metadata": {
  "kernelspec": {
   "display_name": "Python 3",
   "language": "python",
   "name": "python3"
  },
  "language_info": {
   "codemirror_mode": {
    "name": "ipython",
    "version": 2
   },
   "file_extension": ".py",
   "mimetype": "text/x-python",
   "name": "python",
   "nbconvert_exporter": "python",
   "pygments_lexer": "ipython2",
   "version": "2.7.6"
  }
 },
 "nbformat": 4,
 "nbformat_minor": 0
}
